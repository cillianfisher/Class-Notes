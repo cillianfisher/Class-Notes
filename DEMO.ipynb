{
 "cells": [
  {
   "cell_type": "code",
   "execution_count": 1,
   "id": "cc1ff7d2-fce6-4209-8392-e7bc0e828d24",
   "metadata": {},
   "outputs": [],
   "source": [
    "import pandas as pd\n",
    "import random"
   ]
  },
  {
   "cell_type": "code",
   "execution_count": 2,
   "id": "d92ac6ea-bbcf-4b29-bca8-a7e261b1d88e",
   "metadata": {},
   "outputs": [],
   "source": [
    "toy_database = pd.DataFrame({\n",
    "    \"Security\": ['3M', 'TLSA', 'APPL'],\n",
    "    \"URL\": ['https://www.sec.gov/Archives/edgar/data/66740/000006674023000014/mmm-20221231.htm', \n",
    "            'https://www.sec.gov/Archives/edgar/data/1318605/000095017023001409/tsla-20221231.htm', \n",
    "            'https://www.sec.gov/Archives/edgar/data/320193/000032019322000108/aapl-20220924.htm']\n",
    "})"
   ]
  },
  {
   "cell_type": "code",
   "execution_count": 3,
   "id": "86428206-514b-4bfa-9de6-9bd8f8cf5823",
   "metadata": {},
   "outputs": [
    {
     "name": "stdout",
     "output_type": "stream",
     "text": [
      "Row : 0, URL: https://www.sec.gov/Archives/edgar/data/66740/000006674023000014/mmm-20221231.htm\n",
      "Row : 1, URL: https://www.sec.gov/Archives/edgar/data/1318605/000095017023001409/tsla-20221231.htm\n",
      "Row : 2, URL: https://www.sec.gov/Archives/edgar/data/320193/000032019322000108/aapl-20220924.htm\n"
     ]
    }
   ],
   "source": [
    "for index, row in toy_database.iterrows():\n",
    "    print(f\"Row : {index}, URL: {row['URL']}\")"
   ]
  },
  {
   "cell_type": "code",
   "execution_count": 4,
   "id": "fad09624-629c-4bb0-827e-721c8b1a7f0c",
   "metadata": {},
   "outputs": [],
   "source": [
    "sentiment_positive = random.randint(0, 10)"
   ]
  },
  {
   "cell_type": "code",
   "execution_count": 5,
   "id": "c50ef12a-38b8-4715-afa4-cff6775f0ec0",
   "metadata": {},
   "outputs": [],
   "source": [
    "toy_database.loc[index, 'Sentiment'] = sentiment_positive"
   ]
  },
  {
   "cell_type": "code",
   "execution_count": 6,
   "id": "68646784-bdc9-4e2b-a1b4-e667d0c990e1",
   "metadata": {},
   "outputs": [
    {
     "name": "stdout",
     "output_type": "stream",
     "text": [
      "  Security                                                URL  Sentiment\n",
      "0       3M  https://www.sec.gov/Archives/edgar/data/66740/...        NaN\n",
      "1     TLSA  https://www.sec.gov/Archives/edgar/data/131860...        NaN\n",
      "2     APPL  https://www.sec.gov/Archives/edgar/data/320193...        2.0\n"
     ]
    }
   ],
   "source": [
    "print(toy_database)"
   ]
  }
 ],
 "metadata": {
  "kernelspec": {
   "display_name": "Python 3 (ipykernel)",
   "language": "python",
   "name": "python3"
  },
  "language_info": {
   "codemirror_mode": {
    "name": "ipython",
    "version": 3
   },
   "file_extension": ".py",
   "mimetype": "text/x-python",
   "name": "python",
   "nbconvert_exporter": "python",
   "pygments_lexer": "ipython3",
   "version": "3.11.7"
  }
 },
 "nbformat": 4,
 "nbformat_minor": 5
}
