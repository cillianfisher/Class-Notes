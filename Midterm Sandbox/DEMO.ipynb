{
 "cells": [
  {
   "cell_type": "code",
   "execution_count": 17,
   "id": "cc1ff7d2-fce6-4209-8392-e7bc0e828d24",
   "metadata": {},
   "outputs": [
    {
     "name": "stdout",
     "output_type": "stream",
     "text": [
      "Row : 0, URL: https://www.sec.gov/Archives/edgar/data/66740/000006674023000014/mmm-20221231.htm\n",
      "Row : 1, URL: https://www.sec.gov/Archives/edgar/data/1318605/000095017023001409/tsla-20221231.htm\n",
      "Row : 2, URL: https://www.sec.gov/Archives/edgar/data/320193/000032019322000108/aapl-20220924.htm\n",
      "  Security                                                URL  Sentiment\n",
      "0       3M  https://www.sec.gov/Archives/edgar/data/66740/...        0.0\n",
      "1     TLSA  https://www.sec.gov/Archives/edgar/data/131860...        7.0\n",
      "2     APPL  https://www.sec.gov/Archives/edgar/data/320193...        4.0\n"
     ]
    }
   ],
   "source": [
    "import pandas as pd\n",
    "import random\n",
    "\n",
    "toy_database = pd.DataFrame({\n",
    "    \"Security\": ['3M', 'TLSA', 'APPL'],\n",
    "    \"URL\": ['https://www.sec.gov/Archives/edgar/data/66740/000006674023000014/mmm-20221231.htm', \n",
    "            'https://www.sec.gov/Archives/edgar/data/1318605/000095017023001409/tsla-20221231.htm', \n",
    "            'https://www.sec.gov/Archives/edgar/data/320193/000032019322000108/aapl-20220924.htm']\n",
    "})\n",
    "\n",
    "for index, row in toy_database.iterrows():\n",
    "    print(f\"Row : {index}, URL: {row['URL']}\")\n",
    "    toy_database.loc[index, 'Sentiment'] = random.randint(0, 10)\n",
    "\n",
    "print(toy_database)"
   ]
  }
 ],
 "metadata": {
  "kernelspec": {
   "display_name": "Python 3 (ipykernel)",
   "language": "python",
   "name": "python3"
  },
  "language_info": {
   "codemirror_mode": {
    "name": "ipython",
    "version": 3
   },
   "file_extension": ".py",
   "mimetype": "text/x-python",
   "name": "python",
   "nbconvert_exporter": "python",
   "pygments_lexer": "ipython3",
   "version": "3.11.7"
  }
 },
 "nbformat": 4,
 "nbformat_minor": 5
}
