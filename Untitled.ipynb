{
 "cells": [
  {
   "cell_type": "markdown",
   "id": "1fbfef06-b0ef-41a1-bc4b-2b3daa131948",
   "metadata": {},
   "source": [
    "## Planning Solution For Midterm"
   ]
  },
  {
   "cell_type": "markdown",
   "id": "a48c5c14-b14e-44aa-8487-8ef1374577d0",
   "metadata": {},
   "source": [
    "1. Which Firm\n",
    "2. Dowload 10-Ks from Edgar\n",
    "3. Measure sentiment from text\n",
    "4. Download returns \"around\" the 10-K. And convered to CARs\n",
    "5. Add the return data to my sample\n",
    "6. ANALYSIS\n",
    "\n",
    "Dataset I want:\n",
    "- Firm-event level(apple had a 10k on august 27th)\n",
    "- Variables: sentiment of 10k (maybe several versions), CAR (maybe several versions)\n",
    "\n",
    "Prompta 3 Qs\n",
    "1. Which firms? -> S&P 500. drawback - only large firms. Adv: Easier to digest (hard drive space).\n",
    "2. How to get return vars? (Answered)\n",
    "3. How to get sentiment measures?"
   ]
  },
  {
   "cell_type": "code",
   "execution_count": 2,
   "id": "1e61dcd7-1535-4b10-bc00-6a18ebb53b91",
   "metadata": {},
   "outputs": [
    {
     "ename": "SyntaxError",
     "evalue": "leading zeros in decimal integer literals are not permitted; use an 0o prefix for octal integers (3675642139.py, line 1)",
     "output_type": "error",
     "traceback": [
      "\u001b[0;36m  Cell \u001b[0;32mIn[2], line 1\u001b[0;36m\u001b[0m\n\u001b[0;31m    url = https://www.sec.gov/Archives/edgar/data/789019/000095017023035122/msft-20230630.htm\u001b[0m\n\u001b[0m                                                         ^\u001b[0m\n\u001b[0;31mSyntaxError\u001b[0m\u001b[0;31m:\u001b[0m leading zeros in decimal integer literals are not permitted; use an 0o prefix for octal integers\n"
     ]
    }
   ],
   "source": []
  },
  {
   "cell_type": "code",
   "execution_count": 6,
   "id": "acaba7b8-5eee-4e65-b2a3-ab5678fbc615",
   "metadata": {},
   "outputs": [
    {
     "ename": "IndentationError",
     "evalue": "expected an indented block after 'for' statement on line 13 (2582257895.py, line 14)",
     "output_type": "error",
     "traceback": [
      "\u001b[0;36m  Cell \u001b[0;32mIn[6], line 14\u001b[0;36m\u001b[0m\n\u001b[0;31m    print(f\"Row : {index}, URL: {row['URL']}\")\u001b[0m\n\u001b[0m    ^\u001b[0m\n\u001b[0;31mIndentationError\u001b[0m\u001b[0;31m:\u001b[0m expected an indented block after 'for' statement on line 13\n"
     ]
    }
   ],
   "source": [
    "\n"
   ]
  },
  {
   "cell_type": "code",
   "execution_count": 8,
   "id": "5b6b3451-2876-467e-9fd3-6dfe1a0a5d6e",
   "metadata": {},
   "outputs": [
    {
     "name": "stdout",
     "output_type": "stream",
     "text": [
      "Row : 0, URL: https://www.sec.gov/Archives/edgar/data/66740/000006674023000014/mmm-20221231.htm\n",
      "Row : 1, URL: https://www.sec.gov/Archives/edgar/data/1318605/000095017023001409/tsla-20221231.htm\n",
      "Row : 2, URL: https://www.sec.gov/Archives/edgar/data/320193/000032019322000108/aapl-20220924.htm\n",
      "  Security                                                URL  Sentiment\n",
      "0       3M  https://www.sec.gov/Archives/edgar/data/66740/...        7.0\n",
      "1     TLSA  https://www.sec.gov/Archives/edgar/data/131860...        1.0\n",
      "2     APPL  https://www.sec.gov/Archives/edgar/data/320193...        1.0\n"
     ]
    }
   ],
   "source": [
    "import pandas as pd\n",
    "import random\n",
    "\n",
    "toy_database = pd.DataFrame({\n",
    "    \"Security\": ['3M', 'TLSA', 'APPL'],\n",
    "    \"URL\": ['https://www.sec.gov/Archives/edgar/data/66740/000006674023000014/mmm-20221231.htm', \n",
    "            'https://www.sec.gov/Archives/edgar/data/1318605/000095017023001409/tsla-20221231.htm', \n",
    "            'https://www.sec.gov/Archives/edgar/data/320193/000032019322000108/aapl-20220924.htm']\n",
    "})\n",
    "\n",
    "for index, row in toy_database.iterrows():\n",
    "    print(f\"Row : {index}, URL: {row['URL']}\")\n",
    "    toy_database.loc[index, 'Sentiment'] = random.randint(0, 10)\n",
    "\n",
    "print(toy_database)\n"
   ]
  },
  {
   "cell_type": "code",
   "execution_count": null,
   "id": "10d65f62-74e4-4942-bea0-256168e4e8e7",
   "metadata": {},
   "outputs": [],
   "source": []
  }
 ],
 "metadata": {
  "kernelspec": {
   "display_name": "Python 3 (ipykernel)",
   "language": "python",
   "name": "python3"
  },
  "language_info": {
   "codemirror_mode": {
    "name": "ipython",
    "version": 3
   },
   "file_extension": ".py",
   "mimetype": "text/x-python",
   "name": "python",
   "nbconvert_exporter": "python",
   "pygments_lexer": "ipython3",
   "version": "3.11.7"
  }
 },
 "nbformat": 4,
 "nbformat_minor": 5
}
