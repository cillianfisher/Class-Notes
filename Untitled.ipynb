{
 "cells": [
  {
   "cell_type": "markdown",
   "id": "1fbfef06-b0ef-41a1-bc4b-2b3daa131948",
   "metadata": {},
   "source": [
    "## Planning Solution For Midterm"
   ]
  },
  {
   "cell_type": "markdown",
   "id": "a48c5c14-b14e-44aa-8487-8ef1374577d0",
   "metadata": {},
   "source": [
    "1. Which Firm\n",
    "2. Dowload 10-Ks from Edgar\n",
    "3. Measure sentiment from text\n",
    "4. Download returns \"around\" the 10-K. And convered to CARs\n",
    "5. Add the return data to my sample\n",
    "6. ANALYSIS\n",
    "\n",
    "Dataset I want:\n",
    "- Firm-event level(apple had a 10k on august 27th)\n",
    "- Variables: sentiment of 10k (maybe several versions), CAR (maybe several versions)\n",
    "\n",
    "Prompta 3 Qs\n",
    "1. Which firms? -> S&P 500. drawback - only large firms. Adv: Easier to digest (hard drive space).\n",
    "2. How to get return vars? (Answered)\n",
    "3. How to get sentiment measures?"
   ]
  },
  {
   "cell_type": "code",
   "execution_count": 2,
   "id": "1e61dcd7-1535-4b10-bc00-6a18ebb53b91",
   "metadata": {},
   "outputs": [
    {
     "ename": "SyntaxError",
     "evalue": "leading zeros in decimal integer literals are not permitted; use an 0o prefix for octal integers (3675642139.py, line 1)",
     "output_type": "error",
     "traceback": [
      "\u001b[0;36m  Cell \u001b[0;32mIn[2], line 1\u001b[0;36m\u001b[0m\n\u001b[0;31m    url = https://www.sec.gov/Archives/edgar/data/789019/000095017023035122/msft-20230630.htm\u001b[0m\n\u001b[0m                                                         ^\u001b[0m\n\u001b[0;31mSyntaxError\u001b[0m\u001b[0;31m:\u001b[0m leading zeros in decimal integer literals are not permitted; use an 0o prefix for octal integers\n"
     ]
    }
   ],
   "source": []
  },
  {
   "cell_type": "code",
   "execution_count": null,
   "id": "ff205e47-9a17-48ca-933b-28b26d5f9c20",
   "metadata": {},
   "outputs": [],
   "source": []
  }
 ],
 "metadata": {
  "kernelspec": {
   "display_name": "Python 3 (ipykernel)",
   "language": "python",
   "name": "python3"
  },
  "language_info": {
   "codemirror_mode": {
    "name": "ipython",
    "version": 3
   },
   "file_extension": ".py",
   "mimetype": "text/x-python",
   "name": "python",
   "nbconvert_exporter": "python",
   "pygments_lexer": "ipython3",
   "version": "3.11.7"
  }
 },
 "nbformat": 4,
 "nbformat_minor": 5
}
