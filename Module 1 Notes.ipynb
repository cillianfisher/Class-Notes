{
 "cells": [
  {
   "cell_type": "markdown",
   "id": "934846a2-cf16-4335-bd06-c7e4c498eee8",
   "metadata": {},
   "source": [
    "# Module 1 - GitHub, JLab, Python, Good Habits\n",
    "\n",
    "_My suggested use for this file is as an extra tab you keep open on the right side of your JupyterLab screen, and treat it like a notepad you'd use in a classroom. The left half of the screen will be good for files that have involved coding that should be stand alone files._\n",
    "\n",
    "## Skills to learn in this Module \n",
    "\n",
    "You can find the tasks for this module [on the dashboard page]. \n",
    "\n",
    "Note: You can use this as a checklist if you want. Just put an \"x\" in the brackets, like `[x]`:\n",
    "- [x] See? All done!\n",
    "\n",
    "Below are the skills I want you to learn in this module in _roughly_ the order we will cover them\n",
    "- [ ] GitHub skills \n",
    "    - [x ] create a own repo on GitHub (start a project) \n",
    "    - [x ] clone a repo off GitHub to our computers (get ready to work on it) \n",
    "    - [x ] **work on that repo on our computer and sync it to GitHub, using the** [**GitHub Workflow - fetch, commit, push**](03a_githubworkflow)  \n",
    "    - [ ] use the classmates team page\n",
    "    - [ ] open an issue in a repo to get help  \n",
    "    - [ ] know what a good `README` file does and can look like - [I _personally_ like this one](https://GitHub.com/donbowen/BFH) but take a quick look at [this  list of awesome readmes](https://GitHub.com/matiassingers/awesome-readme) for inspiration \n",
    "    - [ ] [know what the `.gitignore` file in our repos is and how/why to use it ](09_gitignore) \n",
    "- [ ] Jupyter lab skills \n",
    "    - [ ] write nicely formatted text in Markdown\n",
    "    - [ ] switch cells from code to markdown and back\n",
    "    - [ ] write and execute code \n",
    "    - [ ] Using shift tab and help resources (1.6.2)\n",
    "    - [ ] get used to using keyboard shortcuts (Chapter 1.6.3)    \n",
    "- [ ] Python skills \n",
    "    - [ ] Work through 1.7 before trying Assignment 1, including the exercises\n",
    "    - [ ] Know the main object types: ints, booleans, floats, lists, strings, and dictionaries\n",
    "    - [ ] Accessing elements within a list and string  \n",
    "    - [ ] Calling functions on objects via the dot syntax  \n",
    "    - [ ] Using documentation to understand how to use a function (pick one function, look up documentation)\n",
    "    - [ ] Possibly: Print out a [good python cheatsheet](https://ledatascifi.github.io/ledatascifi-2024/content/about/resources.html) to keep on your desk (backup: revisit Chapter 1.7!)\n"
   ]
  },
  {
   "cell_type": "markdown",
   "id": "2384d05e-d561-4b4a-bc1b-a92ec7a8c402",
   "metadata": {},
   "source": [
    "# Module 1 - GitHub, JLab, Python, Good Habits\n",
    "\n",
    "_My suggested use for this file is as an extra tab you keep open on the right side of your JupyterLab screen, and treat it like a notepad you'd use in a classroom. The left half of the screen will be good for files that have involved coding that should be stand alone files._\n",
    "\n",
    "## Skills to learn in this Module \n",
    "\n",
    "You can find the tasks for this module [on the dashboard page]. \n",
    "\n",
    "Note: You can use this as a checklist if you want. Just put an \"x\" in the brackets, like `[x]`:\n",
    "- [x] See? All done!\n",
    "\n",
    "Below are the skills I want you to learn in this module in _roughly_ the order we will cover them\n",
    "- [ ] GitHub skills \n",
    "    - [x ] create a own repo on GitHub (start a project) \n",
    "    - [x ] clone a repo off GitHub to our computers (get ready to work on it) \n",
    "    - [x ] **work on that repo on our computer and sync it to GitHub, using the** [**GitHub Workflow - fetch, commit, push**](03a_githubworkflow)  \n",
    "    - [ ] use the classmates team page\n",
    "    - [ ] open an issue in a repo to get help  \n",
    "    - [ ] know what a good `README` file does and can look like - [I _personally_ like this one](https://GitHub.com/donbowen/BFH) but take a quick look at [this  list of awesome readmes](https://GitHub.com/matiassingers/awesome-readme) for inspiration \n",
    "    - [ ] [know what the `.gitignore` file in our repos is and how/why to use it ](09_gitignore) \n",
    "- [ ] Jupyter lab skills \n",
    "    - [ ] write nicely formatted text in Markdown\n",
    "    - [ ] switch cells from code to markdown and back\n",
    "    - [ ] write and execute code \n",
    "    - [ ] Using shift tab and help resources (1.6.2)\n",
    "    - [ ] get used to using keyboard shortcuts (Chapter 1.6.3)    \n",
    "- [ ] Python skills \n",
    "    - [ ] Work through 1.7 before trying Assignment 1, including the exercises\n",
    "    - [ ] Know the main object types: ints, booleans, floats, lists, strings, and dictionaries\n",
    "    - [ ] Accessing elements within a list and string  \n",
    "    - [ ] Calling functions on objects via the dot syntax  \n",
    "    - [ ] Using documentation to understand how to use a function (pick one function, look up documentation)\n",
    "    - [ ] Possibly: Print out a [good python cheatsheet](https://ledatascifi.github.io/ledatascifi-2024/content/about/resources.html) to keep on your desk (backup: revisit Chapter 1.7!)\n"
   ]
  },
  {
   "cell_type": "markdown",
   "id": "8221d239-7299-49c1-a795-b2dae90eba72",
   "metadata": {},
   "source": [
    "# Module 1 - GitHub, JLab, Python, Good Habits\n",
    "\n",
    "_My suggested use for this file is as an extra tab you keep open on the right side of your JupyterLab screen, and treat it like a notepad you'd use in a classroom. The left half of the screen will be good for files that have involved coding that should be stand alone files._\n",
    "\n",
    "## Skills to learn in this Module \n",
    "\n",
    "You can find the tasks for this module [on the dashboard page]. \n",
    "\n",
    "Note: You can use this as a checklist if you want. Just put an \"x\" in the brackets, like `[x]`:\n",
    "- [x] See? All done!\n",
    "\n",
    "Below are the skills I want you to learn in this module in _roughly_ the order we will cover them\n",
    "- [ ] GitHub skills \n",
    "    - [x ] create a own repo on GitHub (start a project) \n",
    "    - [x ] clone a repo off GitHub to our computers (get ready to work on it) \n",
    "    - [x ] **work on that repo on our computer and sync it to GitHub, using the** [**GitHub Workflow - fetch, commit, push**](03a_githubworkflow)  \n",
    "    - [ ] use the classmates team page\n",
    "    - [ ] open an issue in a repo to get help  \n",
    "    - [ ] know what a good `README` file does and can look like - [I _personally_ like this one](https://GitHub.com/donbowen/BFH) but take a quick look at [this  list of awesome readmes](https://GitHub.com/matiassingers/awesome-readme) for inspiration \n",
    "    - [ ] [know what the `.gitignore` file in our repos is and how/why to use it ](09_gitignore) \n",
    "- [ ] Jupyter lab skills \n",
    "    - [ ] write nicely formatted text in Markdown\n",
    "    - [ ] switch cells from code to markdown and back\n",
    "    - [ ] write and execute code \n",
    "    - [ ] Using shift tab and help resources (1.6.2)\n",
    "    - [ ] get used to using keyboard shortcuts (Chapter 1.6.3)    \n",
    "- [ ] Python skills \n",
    "    - [ ] Work through 1.7 before trying Assignment 1, including the exercises\n",
    "    - [ ] Know the main object types: ints, booleans, floats, lists, strings, and dictionaries\n",
    "    - [ ] Accessing elements within a list and string  \n",
    "    - [ ] Calling functions on objects via the dot syntax  \n",
    "    - [ ] Using documentation to understand how to use a function (pick one function, look up documentation)\n",
    "    - [ ] Possibly: Print out a [good python cheatsheet](https://ledatascifi.github.io/ledatascifi-2024/content/about/resources.html) to keep on your desk (backup: revisit Chapter 1.7!)\n"
   ]
  },
  {
   "cell_type": "markdown",
   "id": "92c622e7-94fc-42fb-8d60-3eb070be5b07",
   "metadata": {},
   "source": [
    "## GitHub Lessons"
   ]
  },
  {
   "cell_type": "markdown",
   "id": "88569d7e-97e5-4bcf-bdaa-40984180d051",
   "metadata": {},
   "source": [
    "the block below is just me getting you started..."
   ]
  },
  {
   "cell_type": "markdown",
   "id": "3392bd3e-2a77-4456-b549-8517b21a8686",
   "metadata": {},
   "source": [
    "- Before and after each class, fetch the ledatascifi-2024 repo to get the latest slides and exercises. \n",
    "    - Note: Don't modify any files in this repo! Copy exercises files OUT of the folder to work on them.\n",
    "    - Right click changes, if you change anything in the textbook folder.\n",
    "- When you start work on assignments (every day)\n",
    "    1. **Fetch** the repo in GH-D\n",
    "    1. Every once in a while: Save files you're working on in whatever program you're using, then go to GH-D and tell GH-D to save the changes by **\"commit\"** ing them there. \n",
    "    1. **Push** the commit so that your work is backed up. (I do this right after every commit because it's easy.)\n",
    "- When you take notes - do the same!\n",
    "    1. **Fetch** the repo in GH-D\n",
    "    1. Every once in a while: Save files you're working on in whatever program you're using, then go to GH-D and tell GH-D to save the changes by **\"commit\"** ing them there. \n",
    "    1. **Push** the commit so that your work is backed up. (I do this right after every commit because it's easy.)    "
   ]
  },
  {
   "cell_type": "code",
   "execution_count": 1,
   "id": "d3e1097f-12f7-4860-8b07-d0050800e0f3",
   "metadata": {},
   "outputs": [],
   "source": [
    "# you can add more github notes here"
   ]
  },
  {
   "cell_type": "markdown",
   "id": "57aade34-b0f7-40ec-b761-7d11dc493f9f",
   "metadata": {},
   "source": [
    "## Jupyter Lab Notes\n",
    "- cells are either code or markdown\n",
    "- mardown is a way to write formatted text\n",
    "- To run a code cell or format the text , either play button (A), CTRL+ENTER, shift+ENTER\n",
    "- When you are typiung inside a cell you're in \"edit\" mode,\n",
    "- When you are NOT inside a cell, you're in \"command\" mode and keys alter the notebook structure\n",
    "- Edit --> command : (1) Esc. (2) Run the cell\n",
    "- Command --> edt: (1) Doible click (2) hit enter\n",
    "- Ctrl+Shift+C is your friend : search bar.\n",
    "- Ctrlshift-  : to split"
   ]
  },
  {
   "cell_type": "markdown",
   "id": "e329e920-0428-4900-a4ec-de497d091eb1",
   "metadata": {},
   "source": [
    "syntax is the \"rules\" for how you invoke a function or right some kind of code\n",
    " function name ( arguments) \n",
    "\n",
    "- use Shift+Tab\n",
    "\n",
    "- hit Tab, to view suggestions\n",
    "\n",
    "- ctrl+shift+C"
   ]
  },
  {
   "cell_type": "markdown",
   "id": "e074dbc8-3d08-459d-ad39-5b479e38f6d3",
   "metadata": {},
   "source": [
    "## Python Notes"
   ]
  },
  {
   "cell_type": "code",
   "execution_count": 2,
   "id": "ec79ab8e-93b4-46bf-96dd-7e60d00ea09e",
   "metadata": {},
   "outputs": [
    {
     "name": "stdout",
     "output_type": "stream",
     "text": [
      "hello world\n"
     ]
    }
   ],
   "source": [
    "# ALWAYS: clear the kernal and rerun all cells\n",
    "# ensures that your code was run top to bottom: reproducible \n",
    "#big part of grade\n",
    "\n",
    "print(\"hello world\") #the lions are the best :("
   ]
  },
  {
   "cell_type": "code",
   "execution_count": null,
   "id": "2e39c2b5-7664-48aa-8790-5ddcd3acad30",
   "metadata": {},
   "outputs": [],
   "source": [
    "# the hasthag means that everything on line is not code\n",
    "\n",
    "# COMMENTS ARE USEFUL.. they help:\n",
    "# 1. you, now\n",
    "#2 2. you, 6 months\n",
    "\n",
    "2+2 # addition < this explains some line of code\n",
    "2-3 # subtraction\n",
    "\n",
    "# comments as outlines PLAIN LANGUAGE\n",
    "\n",
    "# download stock prices from yahoo\n",
    "# get returns\n",
    "# reshape/manipulate data as needed to set up regressions"
   ]
  },
  {
   "cell_type": "code",
   "execution_count": 7,
   "id": "017f1108-7961-4c9d-920a-c5c1047dd259",
   "metadata": {},
   "outputs": [
    {
     "name": "stdout",
     "output_type": "stream",
     "text": [
      "5\n"
     ]
    },
    {
     "data": {
      "text/plain": [
       "6"
      ]
     },
     "execution_count": 7,
     "metadata": {},
     "output_type": "execute_result"
    }
   ],
   "source": [
    "# math functions:\n",
    "\n",
    "print(2+3)\n",
    "2-3 # in JLab if last object in cell is an object by itself - print it\n",
    "# last line prints - use print(xx) if you wanna see that line\n",
    "2*3\n",
    "# 2/3\n",
    "# 2//3 # floor division\n",
    "# 2%3 # mod divison (remainders)\n",
    "\n",
    "# command + / <-- hashtag every line you highlight\n",
    "\n",
    "\n"
   ]
  },
  {
   "cell_type": "code",
   "execution_count": null,
   "id": "bec8dcee-7dc4-4a34-b1f6-e65c35434d37",
   "metadata": {},
   "outputs": [],
   "source": [
    "# types\n"
   ]
  },
  {
   "cell_type": "code",
   "execution_count": 8,
   "id": "7b19bad1-26cb-42cc-9306-f7a127565979",
   "metadata": {},
   "outputs": [
    {
     "name": "stdout",
     "output_type": "stream",
     "text": [
      "2\n"
     ]
    },
    {
     "data": {
      "text/plain": [
       "11"
      ]
     },
     "execution_count": 8,
     "metadata": {},
     "output_type": "execute_result"
    }
   ],
   "source": [
    "# parentheses\n",
    "# 1. pemdas and controlling what order things are done in\n",
    "# 2. calling functions : function(argument)\n",
    "\n",
    "print(2)\n",
    "len(\"hello world\")"
   ]
  },
  {
   "cell_type": "code",
   "execution_count": 9,
   "id": "7e7786f6-28d2-40fa-bbaf-32a0f5de66a2",
   "metadata": {},
   "outputs": [
    {
     "data": {
      "text/plain": [
       "True"
      ]
     },
     "execution_count": 9,
     "metadata": {},
     "output_type": "execute_result"
    }
   ],
   "source": [
    "# logic compariosns\n",
    "# == equals\n",
    "# != equals\n",
    "# >= > < <=\n",
    "# and, or\n",
    "# not\n",
    "\n",
    "2==2\n",
    "#if you write A == B, python will determine if the statement is true\n",
    "\n",
    "2==3\n",
    "\n",
    "2!=3\n",
    "\n",
    "True ==1 #trye is 1, false is 0 (useful counting, sum, avg)\n",
    "\n",
    "True and False # ->,IF, not both sides true\n",
    "True and not True # --> F, both sides not true\n",
    "True or not True \n"
   ]
  },
  {
   "cell_type": "code",
   "execution_count": null,
   "id": "7caa7eb0-3324-4faf-a249-dc19b8de3a0f",
   "metadata": {},
   "outputs": [],
   "source": [
    "# membership operators\n",
    "\n",
    "# in \n",
    "# not in"
   ]
  },
  {
   "cell_type": "code",
   "execution_count": null,
   "id": "06af7b80-bef9-4336-a1c6-c99fbbe91c16",
   "metadata": {},
   "outputs": [],
   "source": []
  },
  {
   "cell_type": "code",
   "execution_count": 12,
   "id": "fe5e6b68-a439-4bd8-9953-3e2495629d44",
   "metadata": {},
   "outputs": [
    {
     "data": {
      "text/plain": [
       "127"
      ]
     },
     "execution_count": 12,
     "metadata": {},
     "output_type": "execute_result"
    }
   ],
   "source": [
    "#Q1\n",
    "7643//60"
   ]
  },
  {
   "cell_type": "code",
   "execution_count": 24,
   "id": "a415794d-841d-4b28-a3a4-3c8682503a05",
   "metadata": {},
   "outputs": [
    {
     "data": {
      "text/plain": [
       "1.9487171000000012"
      ]
     },
     "execution_count": 24,
     "metadata": {},
     "output_type": "execute_result"
    }
   ],
   "source": [
    "#Q2\n",
    "\n",
    "1.1**7\n",
    "\n",
    "# use ** to exponentianote, not ^"
   ]
  },
  {
   "cell_type": "code",
   "execution_count": null,
   "id": "1db8bb1b-c694-423a-aa2b-848300c42c3d",
   "metadata": {},
   "outputs": [],
   "source": []
  },
  {
   "cell_type": "code",
   "execution_count": null,
   "id": "ccfe2f8f-b98c-41b7-939f-9c54f8c9215e",
   "metadata": {},
   "outputs": [],
   "source": []
  },
  {
   "cell_type": "code",
   "execution_count": 26,
   "id": "ac420af0-fbdb-47fd-855f-298c55f3ccfd",
   "metadata": {
    "scrolled": true
   },
   "outputs": [
    {
     "name": "stdout",
     "output_type": "stream",
     "text": [
      "2\n"
     ]
    },
    {
     "data": {
      "text/plain": [
       "11"
      ]
     },
     "execution_count": 26,
     "metadata": {},
     "output_type": "execute_result"
    }
   ],
   "source": [
    "#functions\n",
    "\n",
    "print(2)\n",
    "type(True) # what kind of object\n",
    "len(\"hello world\")"
   ]
  },
  {
   "cell_type": "markdown",
   "id": "f9a87797-e195-4334-acc3-4a2c9d009503",
   "metadata": {},
   "source": [
    "## Objects, methods, functions, attributes\n",
    "\n",
    "## Dot syntax is how we access objects"
   ]
  },
  {
   "cell_type": "code",
   "execution_count": 30,
   "id": "42ff87fc-2122-410a-9d4c-6a5c93a74f04",
   "metadata": {},
   "outputs": [
    {
     "data": {
      "text/plain": [
       "['hell', ' w', 'rld']"
      ]
     },
     "execution_count": 30,
     "metadata": {},
     "output_type": "execute_result"
    }
   ],
   "source": [
    "x = \"hello world\"\n",
    "\n",
    "\n",
    "# you access methods/functions\n",
    "\n",
    "x.split(\"o\")"
   ]
  },
  {
   "cell_type": "code",
   "execution_count": 31,
   "id": "19d3649c-1bb0-42d3-9f7d-018df915109b",
   "metadata": {
    "scrolled": true
   },
   "outputs": [
    {
     "data": {
      "text/plain": [
       "builtin_function_or_method"
      ]
     },
     "execution_count": 31,
     "metadata": {},
     "output_type": "execute_result"
    }
   ],
   "source": [
    "x = [1,2,3]\n",
    "x.append(3)\n",
    "type(x.append)"
   ]
  },
  {
   "cell_type": "markdown",
   "id": "44c15d41-6313-4051-aaef-c02faa4a9b33",
   "metadata": {},
   "source": [
    "## Data Structures\n",
    "\n",
    "- list\n",
    "- set\n",
    "- tuple\n",
    "- dict\n",
    "- pandas dataframe"
   ]
  },
  {
   "cell_type": "code",
   "execution_count": 32,
   "id": "d325d2b9-8b95-4232-8213-f48b01037904",
   "metadata": {},
   "outputs": [],
   "source": [
    "y = [1,2,3,\"hello\",[4,5,6]] # comma separates elements, anything inside"
   ]
  },
  {
   "cell_type": "code",
   "execution_count": 34,
   "id": "20ec4d36-2ffc-41f6-85b3-9d523de5a0ac",
   "metadata": {},
   "outputs": [
    {
     "data": {
      "text/plain": [
       "[1, 2, 3, 'hello', [4, 5, 6]]"
      ]
     },
     "execution_count": 34,
     "metadata": {},
     "output_type": "execute_result"
    }
   ],
   "source": [
    "y"
   ]
  },
  {
   "cell_type": "code",
   "execution_count": null,
   "id": "ab723621-719a-41d2-9e79-0e4eb5d1d599",
   "metadata": {},
   "outputs": [],
   "source": []
  },
  {
   "cell_type": "code",
   "execution_count": 33,
   "id": "f5eb22b3-20af-4ef6-8042-c590b3ea9ef7",
   "metadata": {},
   "outputs": [
    {
     "data": {
      "text/plain": [
       "{2, 4}"
      ]
     },
     "execution_count": 33,
     "metadata": {},
     "output_type": "execute_result"
    }
   ],
   "source": [
    "{4,4,4,2,2,2}"
   ]
  },
  {
   "cell_type": "code",
   "execution_count": 3,
   "id": "2881d5d4-b303-4330-95b3-7e372d24c01a",
   "metadata": {},
   "outputs": [],
   "source": [
    "# the hashtag is to write shit\n",
    "\n",
    "#if part of your code isn't working on the assignment, it's due, you can comment out chunks\n",
    "\n",
    "#run the whole thing."
   ]
  },
  {
   "cell_type": "markdown",
   "id": "c8bbb8a6-2a5f-4080-8af2-37fd3470d078",
   "metadata": {},
   "source": [
    "## Good Habit Notes"
   ]
  },
  {
   "cell_type": "markdown",
   "id": "dba41ddd-fdfe-4a0d-8283-9d97966dc854",
   "metadata": {},
   "source": [
    "copy the table from 2.2 of the textbook here! you can use this trick to copy it quickly: https://ledatascifi.github.io/ledatascifi-2024/content/01/05_jupyterlab.html?highlight=youtube#a-good-trick-how-do-i-copy-code-from-one-file-to-another"
   ]
  },
  {
   "cell_type": "markdown",
   "id": "f049c225-0039-41bb-9b63-256047b45da6",
   "metadata": {},
   "source": [
    "## THE GOLDEN RULES \n",
    "\n",
    "Following these GOLDEN RULES will save you hours and hours of time.\n",
    "\n",
    "```{tip}\n",
    "The rules below are really golden. How about you copy this page into your class notes repo someplace you can reference them?\n",
    "```\n",
    "\n",
    "| **Category** | **Rule**  |\n",
    "| :--- | :--- |\n",
    "| 0. **PLAN BEFORE YOU CODE** | A. \"Pseudo code\" is writing out the broad steps in plain language. I often (almost always for complicated tasks) do this on paper, then translate it to code as an outline (in the code's comments). <br> <br> Maybe planning sounds boring and like a waste of time. I get it; I also want to [shoot first](https://youtu.be/la7uuFsCIrg?t=43) like [Han did...](https://youtu.be/YtoqDF8EnsA)  but coders like Han often [end up looking like this guy](https://youtu.be/mLyOj_QD4a4?t=67)... |\n",
    "| | B. Break the problem into chunks/smaller problems. Large chunks should be in different script files. Within an individual file that is doing one thing, try to break it down. See rule 3.A and 5.B below too. |\n",
    "| 1. Automation | A. Automate everything that can be automated, don't do point-and-click analysis! |\n",
    "| | B. If the project involves running multiple code files in order, write a single script that executes all code for the project from beginning to end, [like this one.](10_Golden_6.html#part-3-making-replication-easy) |\n",
    "| 2. Version control | A. Store code and data under version control.  |\n",
    "| | B. [Use the Github workflow!](../01/03a_githubworkflow) | \n",
    "| | C. **Before checking the directory back in, clear all outputs, delete temp files, and then run the whole directory to make sure the outputs reproduce!** (Check: Did it work right?) <br> <br> [If the project uses notebook files, always look to see if the first executed code block has \"[1]\" next to it and that all the subsequent code blocks are numbered consecutively.](../01/06_python.html?highlight=golden#clear-output-and-rerun-from-the-start)   |\n",
    "| 3.  [Organizing folders](10_Golden_6) | A. Separate  folders/directories and files by function |\n",
    "| | B. Put input files into an input folder and outputs into a different folder  |\n",
    "| | A + B = your folders and files will be largely self-documenting |\n",
    "| | C. Make directories portable - they should run on any computer, or if you move them to another place on your computer. See the next rule. |\n",
    "| | D [**Use RELATIVE FILE PATHS, not absolute file paths**](10_Golden_7)  ⭐ ⭐ |\n",
    "| 4. [Data](10_Golden_4) | A. Store cleaned data in tables with unique, non-missing \"keys\" |\n",
    "| | B. Keep data normalized as far into your code pipeline as you can |\n",
    "| | C. [Data cleaning and exploration data analysis golden rules here.](../03/02e_eda_golden) |\n",
    "| 5. [Functions](10_Golden_5a) | A. Write functions to eliminate redundancy |\n",
    "| | B. Write functions to improve clarity |\n",
    "| | C. Otherwise, don't write functions |\n",
    "| | D. **Test your functions!** Use small examples where you know the right answers, and try variations to see if the function breaks in some cases.   |\n",
    "| 6. [Documentation and comments](10_Golden_5b) | A. Is good... to a point |\n",
    "| | B. Don't write documentation you will not maintain |\n",
    "| | C. Code is better off when it is self-documenting |\n",
    "| 7. [Writing code](10_Golden_8) | A. Don't use magic numbers, define once as variables and refer as needed |\n",
    "| | B. Write DRY code: Don't Repeat Yourself! See rule 5.A. |\n",
    "| | C. Premature optimization (for speed) is the root of all evil. | \n",
    "| | D. Use self-documenting variable and function names. | \n",
    "| 8. Look at your data/objects | As discussed [here](../01/07_debugging.html#seriously-print-your-data-and-objects-often) and many other places. <br> <br> **ABCD = Always Be Checking your Data!** | "
   ]
  }
 ],
 "metadata": {
  "kernelspec": {
   "display_name": "Python 3 (ipykernel)",
   "language": "python",
   "name": "python3"
  },
  "language_info": {
   "codemirror_mode": {
    "name": "ipython",
    "version": 3
   },
   "file_extension": ".py",
   "mimetype": "text/x-python",
   "name": "python",
   "nbconvert_exporter": "python",
   "pygments_lexer": "ipython3",
   "version": "3.11.7"
  }
 },
 "nbformat": 4,
 "nbformat_minor": 5
}
